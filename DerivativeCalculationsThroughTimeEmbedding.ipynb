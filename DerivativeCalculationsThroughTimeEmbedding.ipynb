{
  "nbformat": 4,
  "nbformat_minor": 0,
  "metadata": {
    "colab": {
      "name": "DerivativeCalculationsThroughTimeEmbedding.ipynb",
      "provenance": [],
      "collapsed_sections": []
    },
    "kernelspec": {
      "name": "python3",
      "display_name": "Python 3"
    },
    "language_info": {
      "name": "python"
    }
  },
  "cells": [
    {
      "cell_type": "code",
      "execution_count": 92,
      "metadata": {
        "id": "ZKHardBPSJsq"
      },
      "outputs": [],
      "source": [
        "import math as mth\n",
        "import numpy as np\n",
        "import matplotlib.pyplot as plt\n",
        "import statistics as stat "
      ]
    },
    {
      "cell_type": "code",
      "source": [
        "#the following code reads in the SortedInterSeizureInterval.csv file \n",
        "#ISIs are already parsed and sorted \n",
        "import csv\n",
        "\n",
        "file = open('SortedInterSeizureInterval.csv')\n",
        "csvreader = csv.reader(file)\n",
        "ISI = np.zeros((2613, 1))\n",
        "\n",
        "for i in range(0, 2613):\n",
        "  nextRow = next(csvreader)\n",
        "  ISI[i] = float(nextRow[0])\n",
        "\n",
        "print(ISI)"
      ],
      "metadata": {
        "colab": {
          "base_uri": "https://localhost:8080/"
        },
        "id": "EwbT5bqZSQUJ",
        "outputId": "8f5f158e-eb44-4f40-9569-67656c365ae2"
      },
      "execution_count": null,
      "outputs": [
        {
          "output_type": "stream",
          "name": "stdout",
          "text": [
            "[[ 2.91666667]\n",
            " [ 3.99305556]\n",
            " [ 2.98611111]\n",
            " ...\n",
            " [16.98055556]\n",
            " [19.        ]\n",
            " [17.96319444]]\n"
          ]
        }
      ]
    },
    {
      "cell_type": "code",
      "source": [
        "#this method calculates a nondisjoint delay time embedding of a time series with embedding dimension d and time delay tau\n",
        "#I think this might be O(d + tau) - all depends on how matrix partitioning works under the hood though\n",
        "def TimeEmbedding(array, d, tau): \n",
        "  n = len(array)\n",
        "  n_truncated = tau * (mth.floor(n/tau))\n",
        "  m = n_truncated - tau*(d-1)\n",
        "  #number of embeddings is the sequence length minus dimensionality-1 (d, points per embedding)\n",
        "  #times the number of possible starting points for a unique embedding (tau, the time delay)\n",
        "\n",
        "  array_truncated = array[0:n_truncated] #make sure test array length divisible by tau\n",
        "\n",
        "  timeDelayedSequence = np.zeros((tau, mth.floor(n/tau))) \n",
        "\n",
        "  for i in range(0, tau):\n",
        "    indxArray = [j for j in range(i,n_truncated,tau)]\n",
        "    timeDelayedSequence[i,0:len(indxArray)] = array_truncated[indxArray,0]\n",
        "  \n",
        "  dimensionalTimeDelaySlice = np.zeros((tau,d))\n",
        "  embedding = np.zeros((m,d))\n",
        "\n",
        "  for i in range (0, mth.floor(m/tau)):\n",
        "    dimensionalTimeDelaySlice = timeDelayedSequence[0:tau, i:i+d] \n",
        "    embedding[i*tau:(i+1)*tau, 0:d] = dimensionalTimeDelaySlice\n",
        "\n",
        "  return[embedding, d, tau]"
      ],
      "metadata": {
        "id": "vIMN1q8dSQcv"
      },
      "execution_count": null,
      "outputs": []
    },
    {
      "cell_type": "code",
      "source": [
        "#O(n) function for calculating binomial coefficents\n",
        "def Combination(n,k):\n",
        "  if(k==0):\n",
        "    return(1)\n",
        "  else:\n",
        "    return((n/k)*Combination(n-1,k-1))"
      ],
      "metadata": {
        "id": "FUui3fiuVHzp"
      },
      "execution_count": null,
      "outputs": []
    },
    {
      "cell_type": "code",
      "source": [
        "#use time delay embedding to to calculate the nth discrete derivative between each tau-th element of a time series\n",
        "#I believe this is O(n^2)?\n",
        "def derivativeCalc(array,n,tau):\n",
        "  d = n + 1\n",
        "  [embedding, d, tau] = TimeEmbedding(array,d,tau)\n",
        "\n",
        "  coefVector = np.zeros((d,1))\n",
        "  for i in range (0,d):\n",
        "    coefVector[i] = ((-1)**(i)) * Combination(n,i) #coefficents of d repeated differences of a sequence is provably  +/- binomial coefficents \n",
        "  \n",
        "  derivativeList = np.dot(embedding, coefVector)\n",
        "\n",
        "  return(derivativeList)\n"
      ],
      "metadata": {
        "id": "S9i0ZYBQSQkQ"
      },
      "execution_count": 49,
      "outputs": []
    },
    {
      "cell_type": "code",
      "source": [
        "def bootstrap(array,n): \n",
        "  #generate surrogate time series by uniformly scrambling the original time series\n",
        "  #thus destroying any affect of temporal order \n",
        "  bootstraps = np.zeros((n, len(array)))\n",
        "  for i in range (0,n):\n",
        "    permute = np.random.permutation(array)\n",
        "    bootstraps[i, 0:len(array)] = permute[0:len(array),0]\n",
        "\n",
        "  return(bootstraps)"
      ],
      "metadata": {
        "id": "quzYQVbktMfl"
      },
      "execution_count": 142,
      "outputs": []
    },
    {
      "cell_type": "code",
      "source": [
        "def exponentialNoise(array, n): \n",
        "  noise = np.zeros((n, len(array)))\n",
        "  for i in range (0,n):\n",
        "    mu = sum(array)/len(array) #arithemtic mean, scale function for exponential distribution\n",
        "    noise[i, 0:len(array)] = np.random.exponential(mu,len(array))\n",
        "  \n",
        "  return(noise)"
      ],
      "metadata": {
        "id": "NWactI148Sje"
      },
      "execution_count": 239,
      "outputs": []
    },
    {
      "cell_type": "code",
      "source": [
        "#test functions one can play with at their leisure\n",
        "#cos is particularly interesting\n",
        "\n",
        "n=10\n",
        "\n",
        "linear = np.zeros((n,1))\n",
        "for i in range(0,n):\n",
        "  linear[i] = i\n",
        "\n",
        "quadratic = np.zeros((n,1))\n",
        "for i in range(0,n):\n",
        "  quadratic[i] = i**2\n",
        "\n",
        "cubic = np.zeros((n,1))\n",
        "for i in range(0,n):\n",
        "  cubic[i] = i**3\n",
        "\n",
        "cosine = np.zeros((1,20))\n",
        "for i in range (0,20,2):\n",
        "  cosine[0,i] = (-1)**(i/2) # discrete cos(n*pi/2)\n",
        "\n",
        "cosine = np.transpose(cosine)"
      ],
      "metadata": {
        "id": "29VM5-5QZ0ZB"
      },
      "execution_count": 207,
      "outputs": []
    },
    {
      "cell_type": "code",
      "source": [
        "tau = 1\n",
        "\n",
        "ISI1 = ISI[0:np.argmax(ISI)-1]\n",
        "ISI2 = ISI[2345:len(ISI)]\n",
        "\n",
        "d1_ISI = derivativeCalc(ISI,1,tau)\n",
        "d1_ISI1 = derivativeCalc(ISI1,1,tau)\n",
        "d1_ISI2 = derivativeCalc(ISI2,1,tau)"
      ],
      "metadata": {
        "id": "ZnU1MU7-ftth"
      },
      "execution_count": 211,
      "outputs": []
    },
    {
      "cell_type": "code",
      "source": [
        "array = ISI\n",
        "mu = sum(array)/len(array)\n",
        "\n",
        "#exponentially distributed comparison\n",
        "exp =  np.transpose(exponentialNoise(ISI,1))\n",
        "dexp = derivativeCalc(exp,1,1)\n",
        "\n",
        "#bootstrapped comparisons\n",
        "randISI = np.transpose(bootstrap(ISI,1))\n",
        "randISI1 = np.transpose(bootstrap(ISI1,1))\n",
        "randISI2 = np.transpose(bootstrap(ISI2,1))"
      ],
      "metadata": {
        "id": "iHEvbqdq9NBu"
      },
      "execution_count": 268,
      "outputs": []
    },
    {
      "cell_type": "code",
      "source": [
        "plt.plot(ISI)"
      ],
      "metadata": {
        "colab": {
          "base_uri": "https://localhost:8080/",
          "height": 282
        },
        "id": "4AbGz276hecD",
        "outputId": "d6b336cc-7f05-40a7-a5c0-9affb1cc3128"
      },
      "execution_count": 212,
      "outputs": [
        {
          "output_type": "execute_result",
          "data": {
            "text/plain": [
              "[<matplotlib.lines.Line2D at 0x7f792afa6810>]"
            ]
          },
          "metadata": {},
          "execution_count": 212
        },
        {
          "output_type": "display_data",
          "data": {
            "text/plain": [
              "<Figure size 432x288 with 1 Axes>"
            ],
            "image/png": "[encoded data removed]"
          },
          "metadata": {
            "needs_background": "light"
          }
        }
      ]
    },
    {
      "cell_type": "code",
      "source": [
        "plt.plot(ISI1)"
      ],
      "metadata": {
        "colab": {
          "base_uri": "https://localhost:8080/",
          "height": 282
        },
        "id": "RtTRugZ4qXoj",
        "outputId": "41ca22b4-bc95-481b-8a8f-14073ef237bb"
      },
      "execution_count": 176,
      "outputs": [
        {
          "output_type": "execute_result",
          "data": {
            "text/plain": [
              "[<matplotlib.lines.Line2D at 0x7f792b0fff10>]"
            ]
          },
          "metadata": {},
          "execution_count": 176
        },
        {
          "output_type": "display_data",
          "data": {
            "text/plain": [
              "<Figure size 432x288 with 1 Axes>"
            ],
            "image/png": "[encoded data removed]"
          },
          "metadata": {
            "needs_background": "light"
          }
        }
      ]
    },
    {
      "cell_type": "code",
      "source": [
        "d1_ISI1 = derivativeCalc(ISI1, 1, 1)\n",
        "plt.plot(d1_ISI1)"
      ],
      "metadata": {
        "colab": {
          "base_uri": "https://localhost:8080/",
          "height": 282
        },
        "id": "RP1ngHAM1jMv",
        "outputId": "57f3ade9-f156-40bd-eff5-ae469aa73bdf"
      },
      "execution_count": 179,
      "outputs": [
        {
          "output_type": "execute_result",
          "data": {
            "text/plain": [
              "[<matplotlib.lines.Line2D at 0x7f792b8d8b50>]"
            ]
          },
          "metadata": {},
          "execution_count": 179
        },
        {
          "output_type": "display_data",
          "data": {
            "text/plain": [
              "<Figure size 432x288 with 1 Axes>"
            ],
            "image/png": "[encoded data removed]"
          },
          "metadata": {
            "needs_background": "light"
          }
        }
      ]
    },
    {
      "cell_type": "code",
      "source": [
        ""
      ],
      "metadata": {
        "id": "GOSGPEc3vbfj"
      },
      "execution_count": 180,
      "outputs": []
    },
    {
      "cell_type": "code",
      "source": [
        ""
      ],
      "metadata": {
        "id": "V0FwUdKI2hZE"
      },
      "execution_count": 202,
      "outputs": []
    }
  ]
}