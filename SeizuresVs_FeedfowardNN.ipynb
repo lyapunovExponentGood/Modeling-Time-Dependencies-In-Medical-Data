{
  "cells": [
    {
      "cell_type": "markdown",
      "metadata": {
        "id": "Jr2PYN7_0yGs"
      },
      "source": [
        "The following code reads in the InterseizureInterval.csv data file, giving us a vector of interseizure intervals (ISIs). It then partitions the ISI data into training and test data (currently 75% of the data is used for training and 25% for testing). Here the our primary regressors are d-dimensional time delay embeddings of the ISIs, where each point is a vector of d consecutive ISIs. The network is trained to predict the (d+1)st ISI from this sequence of d ISIs.\n",
        "\n",
        "The neural network used here is tensorflow's feedforward neural network. "
      ]
    },
    {
      "cell_type": "code",
      "execution_count": 207,
      "metadata": {
        "id": "rRxRfQC_S4Re"
      },
      "outputs": [],
      "source": [
        "import tensorflow as tf\n",
        "import numpy as np\n",
        "import matplotlib.pyplot as matplot\n",
        "import math as mth\n",
        "\n",
        "from tensorflow import keras\n",
        "from keras import layers, models, optimizers\n",
        "from keras.models import Sequential\n",
        "from keras.layers import Dense"
      ]
    },
    {
      "cell_type": "code",
      "execution_count": 208,
      "metadata": {
        "id": "iQgNidLRnuVZ"
      },
      "outputs": [],
      "source": [
        "'''\n",
        "#The following reads in code from the raw data file:\n",
        "\n",
        "import numpy as np\n",
        "import csv\n",
        "\n",
        "file = open('SeizuretrackerSample.csv')\n",
        "csvreader = csv.reader(file)\n",
        "\n",
        "rows = []\n",
        "\n",
        "#get through initial headers \n",
        "for i in range(0,25):\n",
        "  nextRow = next(csvreader) \n",
        "\n",
        "for i in range(0, 2639-25):\n",
        "  nextRow = next(csvreader)\n",
        "  rows.append(nextRow)\n",
        "  \n",
        "'''\n",
        "\n",
        "#the following code reads in the InterseizureInterval csv file \n",
        "#ISIs are already parsed so no need for the converToDateTimes or \n",
        "\n",
        "import numpy as np\n",
        "import csv\n",
        "\n",
        "file = open('InterSeizureInterval.csv')\n",
        "csvreader = csv.reader(file)\n",
        "ISI = np.zeros((2613, 1))\n",
        "\n",
        "for i in range(0, 2613):\n",
        "  nextRow = next(csvreader)\n",
        "  ISI[i] = float(nextRow[0])\n"
      ]
    },
    {
      "cell_type": "code",
      "execution_count": 209,
      "metadata": {
        "id": "DwW9nSy3oski"
      },
      "outputs": [],
      "source": [
        "import numpy as np\n",
        "from datetime import datetime\n",
        "\n",
        "def convertToDateTimes(list):\n",
        "  dateList = []\n",
        "\n",
        "  i = 0\n",
        "  for row in rows:\n",
        "    date = row[1] \n",
        "    dateTime =  datetime.strptime(date, '%Y-%m-%d %X')  \n",
        "    dateList.append(dateTime)\n",
        "\n",
        "  return dateList"
      ]
    },
    {
      "cell_type": "code",
      "execution_count": 210,
      "metadata": {
        "id": "LS79TPVYoyop"
      },
      "outputs": [],
      "source": [
        "import numpy as np\n",
        "from datetime import datetime\n",
        "\n",
        "def ISICalc(dateList):\n",
        "  ISI = np.zeros((len(dateList)-1, 1))\n",
        "\n",
        "  for i in range (0,len(dateList)-1):\n",
        "    delta = dateList[i+1]- dateList[i]\n",
        "    isi =  delta.total_seconds()\n",
        "    ISI[i] = isi/(60*60*24) #express ISIs in days\n",
        "  return ISI\n"
      ]
    },
    {
      "cell_type": "code",
      "execution_count": 211,
      "metadata": {
        "id": "XnLdor_nnuXu",
        "colab": {
          "base_uri": "https://localhost:8080/",
          "height": 87
        },
        "outputId": "0495e17d-95d8-4744-8451-0161a60db1db"
      },
      "outputs": [
        {
          "output_type": "execute_result",
          "data": {
            "text/plain": [
              "\"\\ndef timeDelayEmbedding(array, d, n):\\n  #m = mth.floor(n/(tau+1)) #number of embeddings + correct one forecast into the future predictions\\n  m = n-d+1 \\n  embeddings = np.zeros([m,d])\\n  answers = np.zeros([m,1])\\n\\n  indx=0\\n  for i in range(0,m):\\n    embeddings[i,0:d] = array[0,indx:indx+d]\\n    #print('index: ',i)\\n    #indx = indx+tau #yields disjoint embeddings- no overlapping points\\n    indx = indx + 1\\n\\n  \\n  return[embeddings, answers, d, m]\\n  \""
            ],
            "application/vnd.google.colaboratory.intrinsic+json": {
              "type": "string"
            }
          },
          "metadata": {},
          "execution_count": 211
        }
      ],
      "source": [
        "'''\n",
        "def timeDelayEmbedding(array, d, n):\n",
        "  #m = mth.floor(n/(tau+1)) #number of embeddings + correct one forecast into the future predictions\n",
        "  m = n-d+1 \n",
        "  embeddings = np.zeros([m,d])\n",
        "  answers = np.zeros([m,1])\n",
        "\n",
        "  indx=0\n",
        "  for i in range(0,m):\n",
        "    embeddings[i,0:d] = array[0,indx:indx+d]\n",
        "    #print('index: ',i)\n",
        "    #indx = indx+tau #yields disjoint embeddings- no overlapping points\n",
        "    indx = indx + 1\n",
        "\n",
        "  \n",
        "  return[embeddings, answers, d, m]\n",
        "  '''"
      ]
    },
    {
      "cell_type": "code",
      "execution_count": 212,
      "metadata": {
        "id": "3qnmbSSlt1fj"
      },
      "outputs": [],
      "source": [
        "def TimeEmbedding(array, d, n):\n",
        "  m = mth.floor(n/(d+1)) #number of embeddings + correct one forecast into the future predictions \n",
        "  embeddings = np.zeros([m,d])\n",
        "  answers = np.zeros([m,1])\n",
        "\n",
        "  indx=0\n",
        "  for i in range(0,m):\n",
        "    embeddings[i,0:d] = array[0,indx:indx+d]\n",
        "    #print('index: ',i)\n",
        "    answers[i,0] = array[0,(indx+d)]\n",
        "    indx = indx+d+1\n",
        "\n",
        "\n",
        "  return[embeddings, answers, d, m]\n"
      ]
    },
    {
      "cell_type": "code",
      "execution_count": 213,
      "metadata": {
        "colab": {
          "base_uri": "https://localhost:8080/"
        },
        "id": "j1TIsEcbnub-",
        "outputId": "b4d5bed7-471f-4909-d004-7246ddb1cf6a"
      },
      "outputs": [
        {
          "output_type": "stream",
          "name": "stdout",
          "text": [
            "[[ 2.91666667]\n",
            " [ 3.99305556]\n",
            " [ 2.98611111]\n",
            " ...\n",
            " [16.98055556]\n",
            " [19.        ]\n",
            " [17.96319444]]\n"
          ]
        }
      ],
      "source": [
        "'''\n",
        "dateList = convertToDateTimes(rows)\n",
        "ISI = ISICalc(dateList)\n",
        "'''\n",
        "print(ISI)\n"
      ]
    },
    {
      "cell_type": "code",
      "execution_count": 214,
      "metadata": {
        "colab": {
          "base_uri": "https://localhost:8080/"
        },
        "id": "NeVHAndynuiX",
        "outputId": "30bef659-abaf-4e60-abee-81a359ba9cfb"
      },
      "outputs": [
        {
          "output_type": "stream",
          "name": "stdout",
          "text": [
            "[[2.91666667 3.99305556 2.98611111 ... 0.00694444 0.01041667 0.01041667]]\n",
            "[[ 2.91666667]\n",
            " [ 3.99305556]\n",
            " [ 2.98611111]\n",
            " ...\n",
            " [16.98055556]\n",
            " [19.        ]\n",
            " [17.96319444]]\n"
          ]
        }
      ],
      "source": [
        "'''\n",
        "#this code generates uniform random data between the min and max of the normal ISI training data matrix: \n",
        "import numpy as np\n",
        "import numpy.random as random\n",
        "\n",
        "\n",
        "ISI = np.zeros((2613, 1))\n",
        "\n",
        "for i in range(0, 2613):\n",
        "  ISI[i] = random.uniform(low=0.0, high=7.0625, size=None)\n",
        "\n",
        "'''\n",
        "n = len(ISI)\n",
        "#ISIt = np.transpose(ISI)\n",
        "proportionTraining = 3/4 #This parameter sets what percentage of our data will be used to train the network\n",
        "\n",
        "trainArray = np.zeros((1,mth.floor(n*proportionTraining)))\n",
        "trainArray = np.transpose(ISI[0:mth.floor(n*proportionTraining)]) \n",
        "\n",
        "print(trainArray)\n",
        "print(ISI)\n",
        "#trainArray = np.transpose(trainArray)\n"
      ]
    },
    {
      "cell_type": "code",
      "execution_count": 215,
      "metadata": {
        "id": "0YwwQSdOvy-E"
      },
      "outputs": [],
      "source": [
        "[embeddingsX, answersX, dX, mX] = TimeEmbedding(trainArray, 3, 3*n/4) #four dimensional embedding"
      ]
    },
    {
      "cell_type": "code",
      "execution_count": 216,
      "metadata": {
        "colab": {
          "base_uri": "https://localhost:8080/"
        },
        "id": "4I5nSHIXwfyb",
        "outputId": "f8480465-34f2-4c9a-e93e-c267176d1204"
      },
      "outputs": [
        {
          "output_type": "stream",
          "name": "stdout",
          "text": [
            "[[2.91666667 3.99305556 2.98611111]\n",
            " [1.20138889 2.84027778 1.20833333]\n",
            " [0.5625     1.61458333 2.70833333]\n",
            " ...\n",
            " [0.00694444 0.01041667 0.00694444]\n",
            " [0.00694444 1.19097222 0.01388889]\n",
            " [0.09375    0.01041667 0.00694444]]\n"
          ]
        }
      ],
      "source": [
        "print(embeddingsX)"
      ]
    },
    {
      "cell_type": "code",
      "execution_count": 217,
      "metadata": {
        "colab": {
          "base_uri": "https://localhost:8080/"
        },
        "id": "RZNjMzbVwjBp",
        "outputId": "9432534d-1084-4559-df27-77f7a48193e1"
      },
      "outputs": [
        {
          "output_type": "stream",
          "name": "stdout",
          "text": [
            "[[2.91666667]\n",
            " [3.99305556]\n",
            " [2.98611111]\n",
            " [1.83333333]\n",
            " [1.20138889]\n",
            " [2.84027778]\n",
            " [1.20833333]\n",
            " [0.77083333]\n",
            " [0.5625    ]\n",
            " [1.61458333]]\n",
            "[[1.83333333e+00]\n",
            " [7.70833333e-01]\n",
            " [4.33333333e+00]\n",
            " [7.06250000e+00]\n",
            " [1.73611111e-02]\n",
            " [6.94444444e-03]\n",
            " [2.15625000e+00]\n",
            " [1.38888889e-02]\n",
            " [1.38888889e-02]\n",
            " [1.03125000e+00]]\n"
          ]
        }
      ],
      "source": [
        "#check that training embedding is correct\n",
        "print(ISI[0:10])\n",
        "print(answersX[0:10])"
      ]
    },
    {
      "cell_type": "code",
      "execution_count": 218,
      "metadata": {
        "id": "9uZI_HQTx42I"
      },
      "outputs": [],
      "source": [
        "testArray = np.transpose(ISI[mth.floor(3*n/4):n])\n",
        "[embeddingsTestX, answersTestX, dTest, mTestX] = TimeEmbedding(testArray, 3, mth.floor(n/4))"
      ]
    },
    {
      "cell_type": "code",
      "execution_count": 219,
      "metadata": {
        "colab": {
          "base_uri": "https://localhost:8080/"
        },
        "id": "jPoEzjyLToyr",
        "outputId": "a3960f3e-4e55-4cd8-bdfe-2f230baeef96"
      },
      "outputs": [
        {
          "output_type": "stream",
          "name": "stdout",
          "text": [
            "[0.01041667 0.02083333 0.01041667 0.01041667 0.00694444 0.00694444\n",
            " 0.01388889 0.43402778 0.01388889 0.01041667]\n",
            "[[0.01041667]\n",
            " [0.43402778]\n",
            " [0.01041667]\n",
            " [0.01736111]\n",
            " [0.01388889]\n",
            " [0.01041667]\n",
            " [0.41319444]\n",
            " [0.02430556]\n",
            " [0.00694444]\n",
            " [0.02430556]]\n"
          ]
        }
      ],
      "source": [
        "#Check that test embedding is correct\n",
        "print(testArray[0,0:10])\n",
        "print(answersTestX[0:10])"
      ]
    },
    {
      "cell_type": "code",
      "execution_count": 220,
      "metadata": {
        "id": "vVKKH6Izx9yd"
      },
      "outputs": [],
      "source": [
        "#the purpose of the concatenate is to format the data when we have more than one vector of predictors\n",
        "#not relevant now but this will be helpful when we start incorporating other regressors\n",
        "\n",
        "inputs = np.concatenate([embeddingsX,], axis =1)\n",
        "correctOutputs = np.concatenate([answersX,], axis=1)\n",
        "\n",
        "inputsTest = np.concatenate([embeddingsTestX, ], axis = 1)\n",
        "correctTestOutputs = np.concatenate([answersTestX, ], axis = 1)"
      ]
    },
    {
      "cell_type": "code",
      "execution_count": 221,
      "metadata": {
        "id": "pdQZvb6AnOep"
      },
      "outputs": [],
      "source": [
        "function_approximater_A = Sequential()"
      ]
    },
    {
      "cell_type": "code",
      "execution_count": 222,
      "metadata": {
        "id": "HiapuOCOnOmu"
      },
      "outputs": [],
      "source": [
        "function_approximater_A.add(Dense(units = 3, activation = 'linear', input_shape=(3,)))\n",
        "#function_approximater_A.add(Dense(units = 2048, activation = 'sigmoid', input_dim = 1))\n",
        "#function_approximater_A.add(Dense(units = 1024, activation = 'sigmoid', input_dim = 1))\n",
        "#function_approximater_A.add(Dense(units = 512, activation = 'sigmoid', input_dim = 1))\n",
        "function_approximater_A.add(Dense(units = 256, activation = 'sigmoid', input_dim = 1))\n",
        "function_approximater_A.add(Dense(units = 128, activation = 'sigmoid', input_dim = 1))\n",
        "function_approximater_A.add(Dense(units = 64, activation = 'sigmoid', input_dim = 1))\n",
        "function_approximater_A.add(Dense(units = 32, activation = 'sigmoid', input_dim = 1))\n",
        "function_approximater_A.add(Dense(units = 16, activation = 'sigmoid', input_dim = 1))\n",
        "function_approximater_A.add(Dense(units = 8, activation = 'sigmoid', input_dim = 1))\n",
        "#function_approximater_A.add(Dense(units = 4, activation = 'sigmoid', input_dim = 1)) \n",
        "function_approximater_A.add(Dense(units = 1, activation = 'linear', input_dim = 1))  "
      ]
    },
    {
      "cell_type": "code",
      "execution_count": 223,
      "metadata": {
        "id": "PRgokOownOrR"
      },
      "outputs": [],
      "source": [
        "sgd_1 = tf.keras.optimizers.SGD(learning_rate=0.05)\n",
        "function_approximater_A.compile(optimizer = 'SGD', loss = 'mse')"
      ]
    },
    {
      "cell_type": "code",
      "execution_count": 224,
      "metadata": {
        "colab": {
          "base_uri": "https://localhost:8080/"
        },
        "id": "CDzLFNfhnoyc",
        "outputId": "4711ee9b-03e8-4bf6-b211-34ef7f9aa0ce"
      },
      "outputs": [
        {
          "output_type": "stream",
          "name": "stdout",
          "text": [
            "Epoch 1/20\n",
            "489/489 [==============================] - 1s 1ms/step - loss: 0.4610\n",
            "Epoch 2/20\n",
            "489/489 [==============================] - 1s 1ms/step - loss: 0.4259\n",
            "Epoch 3/20\n",
            "489/489 [==============================] - 1s 1ms/step - loss: 0.4262\n",
            "Epoch 4/20\n",
            "489/489 [==============================] - 1s 1ms/step - loss: 0.4288\n",
            "Epoch 5/20\n",
            "489/489 [==============================] - 1s 1ms/step - loss: 0.4260\n",
            "Epoch 6/20\n",
            "489/489 [==============================] - 1s 1ms/step - loss: 0.4299\n",
            "Epoch 7/20\n",
            "489/489 [==============================] - 1s 1ms/step - loss: 0.4302\n",
            "Epoch 8/20\n",
            "489/489 [==============================] - 1s 1ms/step - loss: 0.4203\n",
            "Epoch 9/20\n",
            "489/489 [==============================] - 1s 1ms/step - loss: 0.4226\n",
            "Epoch 10/20\n",
            "489/489 [==============================] - 1s 1ms/step - loss: 0.4213\n",
            "Epoch 11/20\n",
            "489/489 [==============================] - 1s 1ms/step - loss: 0.4263\n",
            "Epoch 12/20\n",
            "489/489 [==============================] - 1s 1ms/step - loss: 0.4280\n",
            "Epoch 13/20\n",
            "489/489 [==============================] - 1s 1ms/step - loss: 0.4257\n",
            "Epoch 14/20\n",
            "489/489 [==============================] - 1s 1ms/step - loss: 0.4215\n",
            "Epoch 15/20\n",
            "489/489 [==============================] - 1s 1ms/step - loss: 0.4235\n",
            "Epoch 16/20\n",
            "489/489 [==============================] - 1s 1ms/step - loss: 0.4274\n",
            "Epoch 17/20\n",
            "489/489 [==============================] - 1s 1ms/step - loss: 0.4242\n",
            "Epoch 18/20\n",
            "489/489 [==============================] - 1s 1ms/step - loss: 0.4171\n",
            "Epoch 19/20\n",
            "489/489 [==============================] - 1s 1ms/step - loss: 0.4191\n",
            "Epoch 20/20\n",
            "489/489 [==============================] - 1s 1ms/step - loss: 0.4254\n"
          ]
        },
        {
          "output_type": "execute_result",
          "data": {
            "text/plain": [
              "<keras.callbacks.History at 0x7f7852efc310>"
            ]
          },
          "metadata": {},
          "execution_count": 224
        }
      ],
      "source": [
        "#running this trains the network\n",
        "\n",
        "#Batch size equal to dataset length - all data is used during backpropagation (classic gradient descent):\n",
        "#function_approximater_A.fit(inputs, correctOutputs, batch_size = len(answersX), epochs = 20)\n",
        "\n",
        "#Batch size equal to dataset length - only one datapoint is used during backpropagation (stochastic gradient descent):\n",
        "function_approximater_A.fit(inputs, correctOutputs, batch_size = 1, epochs = 20)\n"
      ]
    },
    {
      "cell_type": "code",
      "execution_count": 225,
      "metadata": {
        "id": "mAo0c068yKjC"
      },
      "outputs": [],
      "source": [
        "y_pred = function_approximater_A.predict(inputsTest)"
      ]
    },
    {
      "cell_type": "code",
      "execution_count": 226,
      "metadata": {
        "colab": {
          "base_uri": "https://localhost:8080/"
        },
        "id": "REz_cN1QGDAA",
        "outputId": "5d80cd57-c441-4bb7-c579-7c27d6bb00c1"
      },
      "outputs": [
        {
          "output_type": "stream",
          "name": "stdout",
          "text": [
            "[[0.41971576]\n",
            " [0.41971582]\n",
            " [0.41971576]\n",
            " [0.4197158 ]\n",
            " [0.41971445]\n",
            " [0.41971335]\n",
            " [0.41971382]\n",
            " [0.41971582]\n",
            " [0.41971576]\n",
            " [0.4197138 ]\n",
            " [0.41971532]\n",
            " [0.41971582]\n",
            " [0.41971457]\n",
            " [0.41971558]\n",
            " [0.41971338]\n",
            " [0.41971582]\n",
            " [0.41971353]\n",
            " [0.41971576]\n",
            " [0.41971576]\n",
            " [0.4197157 ]\n",
            " [0.41971374]\n",
            " [0.41971582]\n",
            " [0.41971582]\n",
            " [0.41971582]\n",
            " [0.41971576]\n",
            " [0.41971356]\n",
            " [0.41971582]\n",
            " [0.41971576]\n",
            " [0.41971576]\n",
            " [0.41971713]\n",
            " [0.41971526]\n",
            " [0.41971582]\n",
            " [0.41971582]\n",
            " [0.41971302]\n",
            " [0.41971588]\n",
            " [0.41971582]\n",
            " [0.41971475]\n",
            " [0.4197158 ]\n",
            " [0.41970378]\n",
            " [0.41971588]\n",
            " [0.41971582]\n",
            " [0.41971487]\n",
            " [0.41971582]\n",
            " [0.41971526]\n",
            " [0.41971517]\n",
            " [0.41971582]\n",
            " [0.41971228]\n",
            " [0.4197154 ]\n",
            " [0.41971487]\n",
            " [0.4197132 ]\n",
            " [0.41971576]\n",
            " [0.41971582]\n",
            " [0.4197123 ]\n",
            " [0.41971505]\n",
            " [0.41971323]\n",
            " [0.41971415]\n",
            " [0.4197146 ]\n",
            " [0.4197158 ]\n",
            " [0.41971576]\n",
            " [0.4197151 ]\n",
            " [0.41971564]\n",
            " [0.41971344]\n",
            " [0.41971564]\n",
            " [0.41971332]\n",
            " [0.41971377]\n",
            " [0.41971576]\n",
            " [0.419715  ]\n",
            " [0.4197146 ]\n",
            " [0.41971526]\n",
            " [0.41971332]\n",
            " [0.41971374]\n",
            " [0.4197141 ]\n",
            " [0.4197156 ]\n",
            " [0.4197131 ]\n",
            " [0.419712  ]\n",
            " [0.4197132 ]\n",
            " [0.41970414]\n",
            " [0.41971558]\n",
            " [0.41971564]\n",
            " [0.41971135]\n",
            " [0.41970742]\n",
            " [0.4197141 ]\n",
            " [0.4197138 ]\n",
            " [0.41971582]\n",
            " [0.41981316]\n",
            " [0.41928643]\n",
            " [0.4196685 ]\n",
            " [0.41971582]\n",
            " [0.41971612]\n",
            " [0.41971582]\n",
            " [0.41971588]\n",
            " [0.41971558]\n",
            " [0.41971424]\n",
            " [0.41969407]\n",
            " [0.4197992 ]\n",
            " [0.41942465]\n",
            " [0.41970894]\n",
            " [0.41970715]\n",
            " [0.41969922]\n",
            " [0.41963232]\n",
            " [0.4196507 ]\n",
            " [0.4196592 ]\n",
            " [0.41970676]\n",
            " [0.41964787]\n",
            " [0.41970628]\n",
            " [0.41973633]\n",
            " [0.4196201 ]\n",
            " [0.41974914]\n",
            " [0.41966784]\n",
            " [0.41966045]\n",
            " [0.41975057]\n",
            " [0.41964823]\n",
            " [0.41963896]\n",
            " [0.4197318 ]\n",
            " [0.4197391 ]\n",
            " [0.41968244]\n",
            " [0.41978097]\n",
            " [0.4197026 ]\n",
            " [0.4196943 ]\n",
            " [0.41970274]\n",
            " [0.41972405]\n",
            " [0.41966218]\n",
            " [0.4196605 ]\n",
            " [0.41969535]\n",
            " [0.41965866]\n",
            " [0.41968566]\n",
            " [0.41971105]\n",
            " [0.41970462]\n",
            " [0.41969836]\n",
            " [0.41968864]\n",
            " [0.41966587]\n",
            " [0.41970688]\n",
            " [0.41970965]\n",
            " [0.41973594]\n",
            " [0.41966197]\n",
            " [0.4197099 ]\n",
            " [0.4196692 ]\n",
            " [0.4197091 ]\n",
            " [0.41973495]\n",
            " [0.41971308]\n",
            " [0.4197113 ]\n",
            " [0.41968688]\n",
            " [0.4197018 ]\n",
            " [0.41964358]\n",
            " [0.41970804]\n",
            " [0.41965747]\n",
            " [0.41963905]\n",
            " [0.41968143]\n",
            " [0.41980034]\n",
            " [0.41965336]\n",
            " [0.41963273]\n",
            " [0.4196998 ]\n",
            " [0.41967577]\n",
            " [0.41971606]\n",
            " [0.4196986 ]\n",
            " [0.41965675]\n",
            " [0.4197369 ]\n",
            " [0.41981968]\n",
            " [0.41973233]\n",
            " [0.41954833]\n",
            " [0.4196194 ]\n",
            " [0.41958052]\n",
            " [0.41971195]]\n"
          ]
        }
      ],
      "source": [
        "print(y_pred)"
      ]
    },
    {
      "cell_type": "code",
      "execution_count": 227,
      "metadata": {
        "id": "O0LSAeiLGDS7",
        "colab": {
          "base_uri": "https://localhost:8080/"
        },
        "outputId": "ab6d340b-2303-454d-f066-b124cda7b0a6"
      },
      "outputs": [
        {
          "output_type": "execute_result",
          "data": {
            "text/plain": [
              "array([0.2965338])"
            ]
          },
          "metadata": {},
          "execution_count": 227
        }
      ],
      "source": [
        "temp= np.transpose(trainArray)\n",
        "sum(temp)/len(temp)\n",
        "\n",
        "#It is clear that our outputs are converging towards the mean of the training data\n",
        "#which is a sign that the neural network is not adequately modelling the complexity of the time series\n",
        "#I'm intrigued to see to what extent adding the discrete derivatives as regressors will help"
      ]
    },
    {
      "cell_type": "code",
      "execution_count": null,
      "metadata": {
        "id": "a2w4fGt4GDZV"
      },
      "outputs": [],
      "source": [
        ""
      ]
    },
    {
      "cell_type": "code",
      "execution_count": null,
      "metadata": {
        "id": "eY2sMjiKGDf9"
      },
      "outputs": [],
      "source": [
        ""
      ]
    },
    {
      "cell_type": "code",
      "execution_count": null,
      "metadata": {
        "id": "vaHIU3lOGDil"
      },
      "outputs": [],
      "source": [
        ""
      ]
    },
    {
      "cell_type": "code",
      "execution_count": null,
      "metadata": {
        "id": "96YPFCdPFpK5"
      },
      "outputs": [],
      "source": [
        ""
      ]
    },
    {
      "cell_type": "code",
      "execution_count": null,
      "metadata": {
        "id": "mhMxP9pyF9Qy"
      },
      "outputs": [],
      "source": [
        ""
      ]
    },
    {
      "cell_type": "code",
      "execution_count": null,
      "metadata": {
        "id": "RxWwXZlBF9fZ"
      },
      "outputs": [],
      "source": [
        ""
      ]
    }
  ],
  "metadata": {
    "colab": {
      "collapsed_sections": [],
      "name": "SeizuresVs.FeedfowardNN.ipynb",
      "provenance": []
    },
    "kernelspec": {
      "display_name": "Python 3",
      "name": "python3"
    },
    "language_info": {
      "name": "python"
    }
  },
  "nbformat": 4,
  "nbformat_minor": 0
}